{
 "cells": [
  {
   "cell_type": "code",
   "execution_count": 1,
   "metadata": {},
   "outputs": [],
   "source": [
    "import numpy as np\n",
    "import pandas as pd\n",
    "import matplotlib.pyplot as plt\n",
    "import seaborn as sns\n",
    "\n",
    "import pandas_profiling"
   ]
  },
  {
   "cell_type": "code",
   "execution_count": 2,
   "metadata": {},
   "outputs": [
    {
     "data": {
      "text/html": [
       "<div>\n",
       "<style scoped>\n",
       "    .dataframe tbody tr th:only-of-type {\n",
       "        vertical-align: middle;\n",
       "    }\n",
       "\n",
       "    .dataframe tbody tr th {\n",
       "        vertical-align: top;\n",
       "    }\n",
       "\n",
       "    .dataframe thead th {\n",
       "        text-align: right;\n",
       "    }\n",
       "</style>\n",
       "<table border=\"1\" class=\"dataframe\">\n",
       "  <thead>\n",
       "    <tr style=\"text-align: right;\">\n",
       "      <th></th>\n",
       "      <th>ID</th>\n",
       "      <th>Default</th>\n",
       "      <th>Checking_amount</th>\n",
       "      <th>Term</th>\n",
       "      <th>Credit_score</th>\n",
       "      <th>Gender</th>\n",
       "      <th>Marital_status</th>\n",
       "      <th>Car_loan</th>\n",
       "      <th>Personal_loan</th>\n",
       "      <th>Home_loan</th>\n",
       "      <th>Education_loan</th>\n",
       "      <th>Emp_status</th>\n",
       "      <th>Amount</th>\n",
       "      <th>Saving_amount</th>\n",
       "      <th>Emp_duration</th>\n",
       "      <th>Age</th>\n",
       "      <th>No_of_credit_acc</th>\n",
       "    </tr>\n",
       "  </thead>\n",
       "  <tbody>\n",
       "    <tr>\n",
       "      <th>0</th>\n",
       "      <td>101</td>\n",
       "      <td>No</td>\n",
       "      <td>988.0</td>\n",
       "      <td>15.0</td>\n",
       "      <td>796.0</td>\n",
       "      <td>Female</td>\n",
       "      <td>Single</td>\n",
       "      <td>Yes</td>\n",
       "      <td>No</td>\n",
       "      <td>No</td>\n",
       "      <td>No</td>\n",
       "      <td>employed</td>\n",
       "      <td>1536.0</td>\n",
       "      <td>3455</td>\n",
       "      <td>12.0</td>\n",
       "      <td>38.0</td>\n",
       "      <td>1.0</td>\n",
       "    </tr>\n",
       "    <tr>\n",
       "      <th>1</th>\n",
       "      <td>102</td>\n",
       "      <td>No</td>\n",
       "      <td>458.0</td>\n",
       "      <td>15.0</td>\n",
       "      <td>813.0</td>\n",
       "      <td>Female</td>\n",
       "      <td>Single</td>\n",
       "      <td>Yes</td>\n",
       "      <td>No</td>\n",
       "      <td>No</td>\n",
       "      <td>No</td>\n",
       "      <td>employed</td>\n",
       "      <td>947.0</td>\n",
       "      <td>3600</td>\n",
       "      <td>25.0</td>\n",
       "      <td>36.0</td>\n",
       "      <td>1.0</td>\n",
       "    </tr>\n",
       "    <tr>\n",
       "      <th>2</th>\n",
       "      <td>103</td>\n",
       "      <td>No</td>\n",
       "      <td>158.0</td>\n",
       "      <td>14.0</td>\n",
       "      <td>756.0</td>\n",
       "      <td>Female</td>\n",
       "      <td>Single</td>\n",
       "      <td>No</td>\n",
       "      <td>Yes</td>\n",
       "      <td>No</td>\n",
       "      <td>No</td>\n",
       "      <td>employed</td>\n",
       "      <td>1678.0</td>\n",
       "      <td>3093</td>\n",
       "      <td>43.0</td>\n",
       "      <td>34.0</td>\n",
       "      <td>1.0</td>\n",
       "    </tr>\n",
       "    <tr>\n",
       "      <th>3</th>\n",
       "      <td>104</td>\n",
       "      <td>Yes</td>\n",
       "      <td>300.0</td>\n",
       "      <td>25.0</td>\n",
       "      <td>737.0</td>\n",
       "      <td>Female</td>\n",
       "      <td>Single</td>\n",
       "      <td>No</td>\n",
       "      <td>No</td>\n",
       "      <td>No</td>\n",
       "      <td>Yes</td>\n",
       "      <td>employed</td>\n",
       "      <td>1804.0</td>\n",
       "      <td>2449</td>\n",
       "      <td>0.0</td>\n",
       "      <td>29.0</td>\n",
       "      <td>1.0</td>\n",
       "    </tr>\n",
       "    <tr>\n",
       "      <th>4</th>\n",
       "      <td>105</td>\n",
       "      <td>Yes</td>\n",
       "      <td>63.0</td>\n",
       "      <td>24.0</td>\n",
       "      <td>662.0</td>\n",
       "      <td>Female</td>\n",
       "      <td>Single</td>\n",
       "      <td>No</td>\n",
       "      <td>No</td>\n",
       "      <td>No</td>\n",
       "      <td>Yes</td>\n",
       "      <td>unemployed</td>\n",
       "      <td>1184.0</td>\n",
       "      <td>2867</td>\n",
       "      <td>4.0</td>\n",
       "      <td>30.0</td>\n",
       "      <td>1.0</td>\n",
       "    </tr>\n",
       "  </tbody>\n",
       "</table>\n",
       "</div>"
      ],
      "text/plain": [
       "    ID Default  Checking_amount  Term  Credit_score  Gender Marital_status   \\\n",
       "0  101      No            988.0  15.0         796.0  Female          Single   \n",
       "1  102      No            458.0  15.0         813.0  Female          Single   \n",
       "2  103      No            158.0  14.0         756.0  Female          Single   \n",
       "3  104     Yes            300.0  25.0         737.0  Female          Single   \n",
       "4  105     Yes             63.0  24.0         662.0  Female          Single   \n",
       "\n",
       "  Car_loan Personal_loan Home_loan Education_loan  Emp_status  Amount  \\\n",
       "0      Yes            No        No             No    employed  1536.0   \n",
       "1      Yes            No        No             No    employed   947.0   \n",
       "2       No           Yes        No             No    employed  1678.0   \n",
       "3       No            No        No            Yes    employed  1804.0   \n",
       "4       No            No        No            Yes  unemployed  1184.0   \n",
       "\n",
       "   Saving_amount  Emp_duration    Age  No_of_credit_acc  \n",
       "0           3455           12.0  38.0               1.0  \n",
       "1           3600           25.0  36.0               1.0  \n",
       "2           3093           43.0  34.0               1.0  \n",
       "3           2449            0.0  29.0               1.0  \n",
       "4           2867            4.0  30.0               1.0  "
      ]
     },
     "execution_count": 2,
     "metadata": {},
     "output_type": "execute_result"
    }
   ],
   "source": [
    "raw_data = pd.ExcelFile('dataset/data.xlsx')\n",
    "data = raw_data.parse('train')\n",
    "data.head()"
   ]
  },
  {
   "cell_type": "markdown",
   "metadata": {},
   "source": [
    "### Basic Exploratory Analysis with Pandas profiling report"
   ]
  },
  {
   "cell_type": "code",
   "execution_count": 3,
   "metadata": {},
   "outputs": [
    {
     "data": {
      "application/vnd.jupyter.widget-view+json": {
       "model_id": "2a982b6186914b35b64a628d1bb6a565",
       "version_major": 2,
       "version_minor": 0
      },
      "text/plain": [
       "HBox(children=(FloatProgress(value=0.0, description='Summarize dataset', max=31.0, style=ProgressStyle(descrip…"
      ]
     },
     "metadata": {},
     "output_type": "display_data"
    },
    {
     "name": "stdout",
     "output_type": "stream",
     "text": [
      "\n"
     ]
    },
    {
     "data": {
      "application/vnd.jupyter.widget-view+json": {
       "model_id": "c7bbc221c4ab4eeaa4607212e7b3d303",
       "version_major": 2,
       "version_minor": 0
      },
      "text/plain": [
       "HBox(children=(FloatProgress(value=0.0, description='Generate report structure', max=1.0, style=ProgressStyle(…"
      ]
     },
     "metadata": {},
     "output_type": "display_data"
    },
    {
     "name": "stderr",
     "output_type": "stream",
     "text": [
      "D:\\Softwares\\Anaconda\\envs\\datacamp\\lib\\site-packages\\pandas_profiling\\visualisation\\plot.py:154: MatplotlibDeprecationWarning: You are modifying the state of a globally registered colormap. In future versions, you will not be able to modify a registered colormap in-place. To remove this warning, you can make a copy of the colormap first. cmap = copy.copy(mpl.cm.get_cmap(\"RdBu\"))\n",
      "  cmap.set_bad(cmap_bad)\n"
     ]
    },
    {
     "name": "stdout",
     "output_type": "stream",
     "text": [
      "\n"
     ]
    },
    {
     "data": {
      "application/vnd.jupyter.widget-view+json": {
       "model_id": "a61cd67a49b54ffabe05498964f3a4b1",
       "version_major": 2,
       "version_minor": 0
      },
      "text/plain": [
       "HBox(children=(FloatProgress(value=0.0, description='Render HTML', max=1.0, style=ProgressStyle(description_wi…"
      ]
     },
     "metadata": {},
     "output_type": "display_data"
    },
    {
     "name": "stdout",
     "output_type": "stream",
     "text": [
      "\n"
     ]
    },
    {
     "data": {
      "application/vnd.jupyter.widget-view+json": {
       "model_id": "a065b489a85f4aaa84291728ad3ca821",
       "version_major": 2,
       "version_minor": 0
      },
      "text/plain": [
       "HBox(children=(FloatProgress(value=0.0, description='Export report to file', max=1.0, style=ProgressStyle(desc…"
      ]
     },
     "metadata": {},
     "output_type": "display_data"
    },
    {
     "name": "stdout",
     "output_type": "stream",
     "text": [
      "\n"
     ]
    }
   ],
   "source": [
    "profile = data.profile_report(title=\"Pandas Profiling Report\")\n",
    "profile.to_file('profile_report.html')"
   ]
  },
  {
   "cell_type": "markdown",
   "metadata": {},
   "source": [
    "`The report warned of an unknown feature Education_loan`"
   ]
  },
  {
   "cell_type": "code",
   "execution_count": 4,
   "metadata": {},
   "outputs": [
    {
     "data": {
      "text/plain": [
       "array(['No', 'Yes', nan, 0, 1], dtype=object)"
      ]
     },
     "execution_count": 4,
     "metadata": {},
     "output_type": "execute_result"
    }
   ],
   "source": [
    "data['Education_loan'].unique()"
   ]
  },
  {
   "cell_type": "markdown",
   "metadata": {},
   "source": [
    "#### Looks like this might be a data collection issue. Hence, let us clean it"
   ]
  },
  {
   "cell_type": "code",
   "execution_count": 5,
   "metadata": {},
   "outputs": [
    {
     "data": {
      "text/plain": [
       "array(['No', 'Yes', nan], dtype=object)"
      ]
     },
     "execution_count": 5,
     "metadata": {},
     "output_type": "execute_result"
    }
   ],
   "source": [
    "data.loc[data['Education_loan'] == 1, 'Education_loan'] = 'Yes'\n",
    "data.loc[data['Education_loan'] == 0, 'Education_loan'] = 'No'\n",
    "data['Education_loan'].unique()"
   ]
  },
  {
   "cell_type": "code",
   "execution_count": 6,
   "metadata": {},
   "outputs": [
    {
     "data": {
      "text/plain": [
       "ID                  0\n",
       "Default             1\n",
       "Checking_amount     1\n",
       "Term                1\n",
       "Credit_score        2\n",
       "Gender              0\n",
       "Marital_status      0\n",
       "Car_loan            1\n",
       "Personal_loan       3\n",
       "Home_loan           2\n",
       "Education_loan      1\n",
       "Emp_status          0\n",
       "Amount              1\n",
       "Saving_amount       0\n",
       "Emp_duration        3\n",
       "Age                 1\n",
       "No_of_credit_acc    1\n",
       "dtype: int64"
      ]
     },
     "execution_count": 6,
     "metadata": {},
     "output_type": "execute_result"
    }
   ],
   "source": [
    "data.isna().sum()"
   ]
  },
  {
   "cell_type": "markdown",
   "metadata": {},
   "source": [
    "#### The amount of NA values are less, so let us drop such values"
   ]
  },
  {
   "cell_type": "code",
   "execution_count": 7,
   "metadata": {},
   "outputs": [
    {
     "data": {
      "text/plain": [
       "(800, 17)"
      ]
     },
     "execution_count": 7,
     "metadata": {},
     "output_type": "execute_result"
    }
   ],
   "source": [
    "data = data.dropna()\n",
    "data.shape"
   ]
  },
  {
   "cell_type": "code",
   "execution_count": 8,
   "metadata": {},
   "outputs": [
    {
     "name": "stdout",
     "output_type": "stream",
     "text": [
      "<class 'pandas.core.frame.DataFrame'>\n",
      "Int64Index: 800 entries, 0 to 803\n",
      "Data columns (total 17 columns):\n",
      " #   Column            Non-Null Count  Dtype  \n",
      "---  ------            --------------  -----  \n",
      " 0   ID                800 non-null    int64  \n",
      " 1   Default           800 non-null    object \n",
      " 2   Checking_amount   800 non-null    float64\n",
      " 3   Term              800 non-null    float64\n",
      " 4   Credit_score      800 non-null    float64\n",
      " 5   Gender            800 non-null    object \n",
      " 6   Marital_status    800 non-null    object \n",
      " 7   Car_loan          800 non-null    object \n",
      " 8   Personal_loan     800 non-null    object \n",
      " 9   Home_loan         800 non-null    object \n",
      " 10  Education_loan    800 non-null    object \n",
      " 11  Emp_status        800 non-null    object \n",
      " 12  Amount            800 non-null    float64\n",
      " 13  Saving_amount     800 non-null    int64  \n",
      " 14  Emp_duration      800 non-null    float64\n",
      " 15  Age               800 non-null    float64\n",
      " 16  No_of_credit_acc  800 non-null    float64\n",
      "dtypes: float64(7), int64(2), object(8)\n",
      "memory usage: 112.5+ KB\n"
     ]
    }
   ],
   "source": [
    "data.info()"
   ]
  },
  {
   "cell_type": "markdown",
   "metadata": {},
   "source": [
    "#### Perform label encoding on nominal variables"
   ]
  },
  {
   "cell_type": "code",
   "execution_count": 9,
   "metadata": {},
   "outputs": [],
   "source": [
    "from sklearn.preprocessing import LabelEncoder"
   ]
  },
  {
   "cell_type": "code",
   "execution_count": 10,
   "metadata": {},
   "outputs": [
    {
     "name": "stdout",
     "output_type": "stream",
     "text": [
      "Default\n",
      "Gender\n",
      "Marital_status \n",
      "Car_loan\n",
      "Personal_loan\n",
      "Home_loan\n",
      "Education_loan\n",
      "Emp_status\n",
      "{'Default': {'No': 0, 'Yes': 1}, 'Gender': {'Female': 0, 'Male': 1}, 'Marital_status ': {'Married': 0, 'Single': 1}, 'Car_loan': {'No': 0, 'Yes': 1}, 'Personal_loan': {'No': 0, 'Yes': 1}, 'Home_loan': {'No': 0, 'Yes': 1}, 'Education_loan': {'No': 0, 'Yes': 1}, 'Emp_status': {'employed': 0, 'unemployed': 1}}\n"
     ]
    },
    {
     "name": "stderr",
     "output_type": "stream",
     "text": [
      "D:\\Softwares\\Anaconda\\envs\\datacamp\\lib\\site-packages\\ipykernel_launcher.py:13: SettingWithCopyWarning: \n",
      "A value is trying to be set on a copy of a slice from a DataFrame.\n",
      "Try using .loc[row_indexer,col_indexer] = value instead\n",
      "\n",
      "See the caveats in the documentation: https://pandas.pydata.org/pandas-docs/stable/user_guide/indexing.html#returning-a-view-versus-a-copy\n",
      "  del sys.path[0]\n"
     ]
    },
    {
     "data": {
      "text/html": [
       "<div>\n",
       "<style scoped>\n",
       "    .dataframe tbody tr th:only-of-type {\n",
       "        vertical-align: middle;\n",
       "    }\n",
       "\n",
       "    .dataframe tbody tr th {\n",
       "        vertical-align: top;\n",
       "    }\n",
       "\n",
       "    .dataframe thead th {\n",
       "        text-align: right;\n",
       "    }\n",
       "</style>\n",
       "<table border=\"1\" class=\"dataframe\">\n",
       "  <thead>\n",
       "    <tr style=\"text-align: right;\">\n",
       "      <th></th>\n",
       "      <th>ID</th>\n",
       "      <th>Default</th>\n",
       "      <th>Checking_amount</th>\n",
       "      <th>Term</th>\n",
       "      <th>Credit_score</th>\n",
       "      <th>Gender</th>\n",
       "      <th>Marital_status</th>\n",
       "      <th>Car_loan</th>\n",
       "      <th>Personal_loan</th>\n",
       "      <th>Home_loan</th>\n",
       "      <th>Education_loan</th>\n",
       "      <th>Emp_status</th>\n",
       "      <th>Amount</th>\n",
       "      <th>Saving_amount</th>\n",
       "      <th>Emp_duration</th>\n",
       "      <th>Age</th>\n",
       "      <th>No_of_credit_acc</th>\n",
       "    </tr>\n",
       "  </thead>\n",
       "  <tbody>\n",
       "    <tr>\n",
       "      <th>0</th>\n",
       "      <td>101</td>\n",
       "      <td>0</td>\n",
       "      <td>988.0</td>\n",
       "      <td>15.0</td>\n",
       "      <td>796.0</td>\n",
       "      <td>0</td>\n",
       "      <td>1</td>\n",
       "      <td>1</td>\n",
       "      <td>0</td>\n",
       "      <td>0</td>\n",
       "      <td>0</td>\n",
       "      <td>0</td>\n",
       "      <td>1536.0</td>\n",
       "      <td>3455</td>\n",
       "      <td>12.0</td>\n",
       "      <td>38.0</td>\n",
       "      <td>1.0</td>\n",
       "    </tr>\n",
       "    <tr>\n",
       "      <th>1</th>\n",
       "      <td>102</td>\n",
       "      <td>0</td>\n",
       "      <td>458.0</td>\n",
       "      <td>15.0</td>\n",
       "      <td>813.0</td>\n",
       "      <td>0</td>\n",
       "      <td>1</td>\n",
       "      <td>1</td>\n",
       "      <td>0</td>\n",
       "      <td>0</td>\n",
       "      <td>0</td>\n",
       "      <td>0</td>\n",
       "      <td>947.0</td>\n",
       "      <td>3600</td>\n",
       "      <td>25.0</td>\n",
       "      <td>36.0</td>\n",
       "      <td>1.0</td>\n",
       "    </tr>\n",
       "    <tr>\n",
       "      <th>2</th>\n",
       "      <td>103</td>\n",
       "      <td>0</td>\n",
       "      <td>158.0</td>\n",
       "      <td>14.0</td>\n",
       "      <td>756.0</td>\n",
       "      <td>0</td>\n",
       "      <td>1</td>\n",
       "      <td>0</td>\n",
       "      <td>1</td>\n",
       "      <td>0</td>\n",
       "      <td>0</td>\n",
       "      <td>0</td>\n",
       "      <td>1678.0</td>\n",
       "      <td>3093</td>\n",
       "      <td>43.0</td>\n",
       "      <td>34.0</td>\n",
       "      <td>1.0</td>\n",
       "    </tr>\n",
       "    <tr>\n",
       "      <th>3</th>\n",
       "      <td>104</td>\n",
       "      <td>1</td>\n",
       "      <td>300.0</td>\n",
       "      <td>25.0</td>\n",
       "      <td>737.0</td>\n",
       "      <td>0</td>\n",
       "      <td>1</td>\n",
       "      <td>0</td>\n",
       "      <td>0</td>\n",
       "      <td>0</td>\n",
       "      <td>1</td>\n",
       "      <td>0</td>\n",
       "      <td>1804.0</td>\n",
       "      <td>2449</td>\n",
       "      <td>0.0</td>\n",
       "      <td>29.0</td>\n",
       "      <td>1.0</td>\n",
       "    </tr>\n",
       "    <tr>\n",
       "      <th>4</th>\n",
       "      <td>105</td>\n",
       "      <td>1</td>\n",
       "      <td>63.0</td>\n",
       "      <td>24.0</td>\n",
       "      <td>662.0</td>\n",
       "      <td>0</td>\n",
       "      <td>1</td>\n",
       "      <td>0</td>\n",
       "      <td>0</td>\n",
       "      <td>0</td>\n",
       "      <td>1</td>\n",
       "      <td>1</td>\n",
       "      <td>1184.0</td>\n",
       "      <td>2867</td>\n",
       "      <td>4.0</td>\n",
       "      <td>30.0</td>\n",
       "      <td>1.0</td>\n",
       "    </tr>\n",
       "  </tbody>\n",
       "</table>\n",
       "</div>"
      ],
      "text/plain": [
       "    ID  Default  Checking_amount  Term  Credit_score  Gender  Marital_status   \\\n",
       "0  101        0            988.0  15.0         796.0       0                1   \n",
       "1  102        0            458.0  15.0         813.0       0                1   \n",
       "2  103        0            158.0  14.0         756.0       0                1   \n",
       "3  104        1            300.0  25.0         737.0       0                1   \n",
       "4  105        1             63.0  24.0         662.0       0                1   \n",
       "\n",
       "   Car_loan  Personal_loan  Home_loan  Education_loan  Emp_status  Amount  \\\n",
       "0         1              0          0               0           0  1536.0   \n",
       "1         1              0          0               0           0   947.0   \n",
       "2         0              1          0               0           0  1678.0   \n",
       "3         0              0          0               1           0  1804.0   \n",
       "4         0              0          0               1           1  1184.0   \n",
       "\n",
       "   Saving_amount  Emp_duration    Age  No_of_credit_acc  \n",
       "0           3455           12.0  38.0               1.0  \n",
       "1           3600           25.0  36.0               1.0  \n",
       "2           3093           43.0  34.0               1.0  \n",
       "3           2449            0.0  29.0               1.0  \n",
       "4           2867            4.0  30.0               1.0  "
      ]
     },
     "execution_count": 10,
     "metadata": {},
     "output_type": "execute_result"
    }
   ],
   "source": [
    "# le = LabelEncoder()\n",
    "# le.fit(data.Gender)\n",
    "# mapping = dict(zip(le.classes_, le.transform(le.classes_)))\n",
    "# mapping\n",
    "mapping = {}\n",
    "# new_data = pd.DataFrame()\n",
    "for f in data.columns:\n",
    "    if data[f].dtype == 'object':\n",
    "        print(f)\n",
    "        le = LabelEncoder()\n",
    "        le.fit(list(data[f].values))\n",
    "        mapping[f] = (dict(zip(le.classes_, le.transform(le.classes_))))\n",
    "        data[f] = le.transform(list(data[f].values))\n",
    "print(mapping)\n",
    "data.head()"
   ]
  },
  {
   "cell_type": "markdown",
   "metadata": {},
   "source": [
    "#### Split the data"
   ]
  },
  {
   "cell_type": "code",
   "execution_count": 11,
   "metadata": {},
   "outputs": [],
   "source": [
    "from sklearn.model_selection import train_test_split"
   ]
  },
  {
   "cell_type": "code",
   "execution_count": 12,
   "metadata": {},
   "outputs": [],
   "source": [
    "X = data.drop('Default', axis = 1)\n",
    "y = data.Default"
   ]
  },
  {
   "cell_type": "code",
   "execution_count": 13,
   "metadata": {},
   "outputs": [
    {
     "name": "stdout",
     "output_type": "stream",
     "text": [
      "X =  (800, 16)\n",
      "y =  (800,)\n"
     ]
    }
   ],
   "source": [
    "print('X = ', X.shape)\n",
    "print('y = ', y.shape)"
   ]
  },
  {
   "cell_type": "code",
   "execution_count": 14,
   "metadata": {},
   "outputs": [],
   "source": [
    "X_train, X_test, y_train, y_test = train_test_split(X, y, test_size = 0.2, random_state = 42)"
   ]
  },
  {
   "cell_type": "code",
   "execution_count": 15,
   "metadata": {},
   "outputs": [
    {
     "name": "stdout",
     "output_type": "stream",
     "text": [
      "Train size =  (640, 16)\n",
      "Test size =  (160, 16)\n"
     ]
    }
   ],
   "source": [
    "print('Train size = ', X_train.shape)\n",
    "print('Test size = ', X_test.shape)"
   ]
  },
  {
   "cell_type": "code",
   "execution_count": 16,
   "metadata": {},
   "outputs": [
    {
     "data": {
      "text/html": [
       "<div>\n",
       "<style scoped>\n",
       "    .dataframe tbody tr th:only-of-type {\n",
       "        vertical-align: middle;\n",
       "    }\n",
       "\n",
       "    .dataframe tbody tr th {\n",
       "        vertical-align: top;\n",
       "    }\n",
       "\n",
       "    .dataframe thead th {\n",
       "        text-align: right;\n",
       "    }\n",
       "</style>\n",
       "<table border=\"1\" class=\"dataframe\">\n",
       "  <thead>\n",
       "    <tr style=\"text-align: right;\">\n",
       "      <th></th>\n",
       "      <th>ID</th>\n",
       "      <th>Checking_amount</th>\n",
       "      <th>Term</th>\n",
       "      <th>Credit_score</th>\n",
       "      <th>Gender</th>\n",
       "      <th>Marital_status</th>\n",
       "      <th>Car_loan</th>\n",
       "      <th>Personal_loan</th>\n",
       "      <th>Home_loan</th>\n",
       "      <th>Education_loan</th>\n",
       "      <th>Emp_status</th>\n",
       "      <th>Amount</th>\n",
       "      <th>Saving_amount</th>\n",
       "      <th>Emp_duration</th>\n",
       "      <th>Age</th>\n",
       "      <th>No_of_credit_acc</th>\n",
       "    </tr>\n",
       "  </thead>\n",
       "  <tbody>\n",
       "    <tr>\n",
       "      <th>72</th>\n",
       "      <td>173</td>\n",
       "      <td>159.0</td>\n",
       "      <td>25.0</td>\n",
       "      <td>736.0</td>\n",
       "      <td>0</td>\n",
       "      <td>1</td>\n",
       "      <td>0</td>\n",
       "      <td>1</td>\n",
       "      <td>0</td>\n",
       "      <td>0</td>\n",
       "      <td>0</td>\n",
       "      <td>1274.0</td>\n",
       "      <td>3044</td>\n",
       "      <td>99.0</td>\n",
       "      <td>40.0</td>\n",
       "      <td>1.0</td>\n",
       "    </tr>\n",
       "    <tr>\n",
       "      <th>107</th>\n",
       "      <td>208</td>\n",
       "      <td>-48.0</td>\n",
       "      <td>20.0</td>\n",
       "      <td>716.0</td>\n",
       "      <td>1</td>\n",
       "      <td>0</td>\n",
       "      <td>1</td>\n",
       "      <td>0</td>\n",
       "      <td>0</td>\n",
       "      <td>0</td>\n",
       "      <td>0</td>\n",
       "      <td>1384.0</td>\n",
       "      <td>3023</td>\n",
       "      <td>27.0</td>\n",
       "      <td>22.0</td>\n",
       "      <td>1.0</td>\n",
       "    </tr>\n",
       "    <tr>\n",
       "      <th>271</th>\n",
       "      <td>372</td>\n",
       "      <td>327.0</td>\n",
       "      <td>19.0</td>\n",
       "      <td>803.0</td>\n",
       "      <td>1</td>\n",
       "      <td>0</td>\n",
       "      <td>0</td>\n",
       "      <td>1</td>\n",
       "      <td>0</td>\n",
       "      <td>0</td>\n",
       "      <td>0</td>\n",
       "      <td>1315.0</td>\n",
       "      <td>3437</td>\n",
       "      <td>42.0</td>\n",
       "      <td>37.0</td>\n",
       "      <td>2.0</td>\n",
       "    </tr>\n",
       "    <tr>\n",
       "      <th>437</th>\n",
       "      <td>538</td>\n",
       "      <td>986.0</td>\n",
       "      <td>25.0</td>\n",
       "      <td>736.0</td>\n",
       "      <td>1</td>\n",
       "      <td>1</td>\n",
       "      <td>0</td>\n",
       "      <td>0</td>\n",
       "      <td>0</td>\n",
       "      <td>1</td>\n",
       "      <td>1</td>\n",
       "      <td>1140.0</td>\n",
       "      <td>3257</td>\n",
       "      <td>32.0</td>\n",
       "      <td>25.0</td>\n",
       "      <td>1.0</td>\n",
       "    </tr>\n",
       "    <tr>\n",
       "      <th>103</th>\n",
       "      <td>204</td>\n",
       "      <td>147.0</td>\n",
       "      <td>18.0</td>\n",
       "      <td>528.0</td>\n",
       "      <td>0</td>\n",
       "      <td>1</td>\n",
       "      <td>0</td>\n",
       "      <td>1</td>\n",
       "      <td>0</td>\n",
       "      <td>0</td>\n",
       "      <td>0</td>\n",
       "      <td>1429.0</td>\n",
       "      <td>2956</td>\n",
       "      <td>20.0</td>\n",
       "      <td>27.0</td>\n",
       "      <td>1.0</td>\n",
       "    </tr>\n",
       "  </tbody>\n",
       "</table>\n",
       "</div>"
      ],
      "text/plain": [
       "      ID  Checking_amount  Term  Credit_score  Gender  Marital_status   \\\n",
       "72   173            159.0  25.0         736.0       0                1   \n",
       "107  208            -48.0  20.0         716.0       1                0   \n",
       "271  372            327.0  19.0         803.0       1                0   \n",
       "437  538            986.0  25.0         736.0       1                1   \n",
       "103  204            147.0  18.0         528.0       0                1   \n",
       "\n",
       "     Car_loan  Personal_loan  Home_loan  Education_loan  Emp_status  Amount  \\\n",
       "72          0              1          0               0           0  1274.0   \n",
       "107         1              0          0               0           0  1384.0   \n",
       "271         0              1          0               0           0  1315.0   \n",
       "437         0              0          0               1           1  1140.0   \n",
       "103         0              1          0               0           0  1429.0   \n",
       "\n",
       "     Saving_amount  Emp_duration    Age  No_of_credit_acc  \n",
       "72            3044           99.0  40.0               1.0  \n",
       "107           3023           27.0  22.0               1.0  \n",
       "271           3437           42.0  37.0               2.0  \n",
       "437           3257           32.0  25.0               1.0  \n",
       "103           2956           20.0  27.0               1.0  "
      ]
     },
     "execution_count": 16,
     "metadata": {},
     "output_type": "execute_result"
    }
   ],
   "source": [
    "X_train.tail()"
   ]
  },
  {
   "cell_type": "markdown",
   "metadata": {},
   "source": [
    "#### Apply a baseline model"
   ]
  },
  {
   "cell_type": "code",
   "execution_count": 17,
   "metadata": {},
   "outputs": [],
   "source": [
    "from sklearn.tree import DecisionTreeClassifier"
   ]
  },
  {
   "cell_type": "code",
   "execution_count": 18,
   "metadata": {},
   "outputs": [],
   "source": [
    "model = DecisionTreeClassifier(random_state = 42)\n",
    "model.fit(X_train, y_train)\n",
    "y_pred = model.predict(X_test)"
   ]
  },
  {
   "cell_type": "code",
   "execution_count": 19,
   "metadata": {},
   "outputs": [],
   "source": [
    "from sklearn.metrics import f1_score, accuracy_score, roc_curve, auc"
   ]
  },
  {
   "cell_type": "code",
   "execution_count": 20,
   "metadata": {},
   "outputs": [
    {
     "data": {
      "text/plain": [
       "0.7474747474747475"
      ]
     },
     "execution_count": 20,
     "metadata": {},
     "output_type": "execute_result"
    }
   ],
   "source": [
    "f1_score(y_test, y_pred)"
   ]
  },
  {
   "cell_type": "code",
   "execution_count": 21,
   "metadata": {},
   "outputs": [
    {
     "data": {
      "text/plain": [
       "0.84375"
      ]
     },
     "execution_count": 21,
     "metadata": {},
     "output_type": "execute_result"
    }
   ],
   "source": [
    "accuracy_score(y_test, y_pred)"
   ]
  },
  {
   "cell_type": "markdown",
   "metadata": {},
   "source": [
    "#### Visualize the decision tree grown"
   ]
  },
  {
   "cell_type": "code",
   "execution_count": 22,
   "metadata": {},
   "outputs": [],
   "source": [
    "from sklearn import tree\n",
    "import graphviz"
   ]
  },
  {
   "cell_type": "code",
   "execution_count": 23,
   "metadata": {},
   "outputs": [
    {
     "data": {
      "text/plain": [
       "'decision_tree.png'"
      ]
     },
     "execution_count": 23,
     "metadata": {},
     "output_type": "execute_result"
    }
   ],
   "source": [
    "dot_data = tree.export_graphviz(model, out_file = None)\n",
    "graph = graphviz.Source(dot_data, format = 'png')\n",
    "graph.render('decision_tree')"
   ]
  },
  {
   "cell_type": "markdown",
   "metadata": {},
   "source": [
    "#### Look at feature importances considered by the model"
   ]
  },
  {
   "cell_type": "code",
   "execution_count": 24,
   "metadata": {},
   "outputs": [],
   "source": [
    "def feature_importance(model, X):\n",
    "    importance = model.feature_importances_\n",
    "    for f, imp in zip(X.columns.values, importance):\n",
    "        print('Feature: {}, Score: {}'.format(f, imp))\n",
    "    plt.bar(X.columns.values, importance)\n",
    "    plt.xticks(rotation = 90)\n",
    "    plt.show()"
   ]
  },
  {
   "cell_type": "code",
   "execution_count": 25,
   "metadata": {},
   "outputs": [
    {
     "name": "stdout",
     "output_type": "stream",
     "text": [
      "Feature: ID, Score: 0.02080515942439711\n",
      "Feature: Checking_amount, Score: 0.1652552407936375\n",
      "Feature: Term, Score: 0.0013074450403125007\n",
      "Feature: Credit_score, Score: 0.12874455416095412\n",
      "Feature: Gender, Score: 0.0\n",
      "Feature: Marital_status , Score: 0.0\n",
      "Feature: Car_loan, Score: 0.0037426900584795323\n",
      "Feature: Personal_loan, Score: 0.0\n",
      "Feature: Home_loan, Score: 0.0\n",
      "Feature: Education_loan, Score: 0.007017543859649123\n",
      "Feature: Emp_status, Score: 0.0\n",
      "Feature: Amount, Score: 0.04548078721153433\n",
      "Feature: Saving_amount, Score: 0.08937600980367096\n",
      "Feature: Emp_duration , Score: 0.023722896986054877\n",
      "Feature: Age, Score: 0.4806064092463623\n",
      "Feature: No_of_credit_acc, Score: 0.03394126341494763\n"
     ]
    },
    {
     "data": {
      "image/png": "[encoded data removed]",
      "text/plain": [
       "<Figure size 432x288 with 1 Axes>"
      ]
     },
     "metadata": {
      "needs_background": "light"
     },
     "output_type": "display_data"
    }
   ],
   "source": [
    "feature_importance(model, X_train)"
   ]
  },
  {
   "cell_type": "markdown",
   "metadata": {},
   "source": [
    "`Observe that ID feature is given some importance by the model which is not desirable. Hence we will have to remove this feature. Also, the Gender feature should typically not play a role which deciding on whether to give a loan or not. Hence, we will remove this Gender feature as well. The most important feature has turned out to be Age, so let us look at what are values of this feature.`"
   ]
  },
  {
   "cell_type": "code",
   "execution_count": 26,
   "metadata": {},
   "outputs": [
    {
     "data": {
      "text/html": [
       "<div>\n",
       "<style scoped>\n",
       "    .dataframe tbody tr th:only-of-type {\n",
       "        vertical-align: middle;\n",
       "    }\n",
       "\n",
       "    .dataframe tbody tr th {\n",
       "        vertical-align: top;\n",
       "    }\n",
       "\n",
       "    .dataframe thead th {\n",
       "        text-align: right;\n",
       "    }\n",
       "</style>\n",
       "<table border=\"1\" class=\"dataframe\">\n",
       "  <thead>\n",
       "    <tr style=\"text-align: right;\">\n",
       "      <th></th>\n",
       "      <th>Default</th>\n",
       "      <th>Checking_amount</th>\n",
       "      <th>Term</th>\n",
       "      <th>Credit_score</th>\n",
       "      <th>Marital_status</th>\n",
       "      <th>Car_loan</th>\n",
       "      <th>Personal_loan</th>\n",
       "      <th>Home_loan</th>\n",
       "      <th>Education_loan</th>\n",
       "      <th>Emp_status</th>\n",
       "      <th>Amount</th>\n",
       "      <th>Saving_amount</th>\n",
       "      <th>Emp_duration</th>\n",
       "      <th>Age</th>\n",
       "      <th>No_of_credit_acc</th>\n",
       "    </tr>\n",
       "  </thead>\n",
       "  <tbody>\n",
       "    <tr>\n",
       "      <th>799</th>\n",
       "      <td>0</td>\n",
       "      <td>393.0</td>\n",
       "      <td>18.0</td>\n",
       "      <td>846.0</td>\n",
       "      <td>1</td>\n",
       "      <td>0</td>\n",
       "      <td>1</td>\n",
       "      <td>0</td>\n",
       "      <td>0</td>\n",
       "      <td>1</td>\n",
       "      <td>1603.0</td>\n",
       "      <td>3282</td>\n",
       "      <td>54.0</td>\n",
       "      <td>31.0</td>\n",
       "      <td>1.0</td>\n",
       "    </tr>\n",
       "    <tr>\n",
       "      <th>800</th>\n",
       "      <td>0</td>\n",
       "      <td>462.0</td>\n",
       "      <td>21.0</td>\n",
       "      <td>810.0</td>\n",
       "      <td>1</td>\n",
       "      <td>1</td>\n",
       "      <td>0</td>\n",
       "      <td>0</td>\n",
       "      <td>0</td>\n",
       "      <td>1</td>\n",
       "      <td>1435.0</td>\n",
       "      <td>3873</td>\n",
       "      <td>110.0</td>\n",
       "      <td>32.0</td>\n",
       "      <td>1.0</td>\n",
       "    </tr>\n",
       "    <tr>\n",
       "      <th>801</th>\n",
       "      <td>0</td>\n",
       "      <td>717.0</td>\n",
       "      <td>17.0</td>\n",
       "      <td>739.0</td>\n",
       "      <td>0</td>\n",
       "      <td>1</td>\n",
       "      <td>0</td>\n",
       "      <td>0</td>\n",
       "      <td>0</td>\n",
       "      <td>1</td>\n",
       "      <td>1669.0</td>\n",
       "      <td>3453</td>\n",
       "      <td>32.0</td>\n",
       "      <td>31.0</td>\n",
       "      <td>2.0</td>\n",
       "    </tr>\n",
       "    <tr>\n",
       "      <th>802</th>\n",
       "      <td>0</td>\n",
       "      <td>822.0</td>\n",
       "      <td>17.0</td>\n",
       "      <td>783.0</td>\n",
       "      <td>0</td>\n",
       "      <td>0</td>\n",
       "      <td>1</td>\n",
       "      <td>0</td>\n",
       "      <td>0</td>\n",
       "      <td>1</td>\n",
       "      <td>1041.0</td>\n",
       "      <td>3312</td>\n",
       "      <td>43.0</td>\n",
       "      <td>34.0</td>\n",
       "      <td>2.0</td>\n",
       "    </tr>\n",
       "    <tr>\n",
       "      <th>803</th>\n",
       "      <td>1</td>\n",
       "      <td>512.0</td>\n",
       "      <td>18.0</td>\n",
       "      <td>601.0</td>\n",
       "      <td>0</td>\n",
       "      <td>1</td>\n",
       "      <td>0</td>\n",
       "      <td>0</td>\n",
       "      <td>0</td>\n",
       "      <td>1</td>\n",
       "      <td>997.0</td>\n",
       "      <td>3060</td>\n",
       "      <td>104.0</td>\n",
       "      <td>26.0</td>\n",
       "      <td>1.0</td>\n",
       "    </tr>\n",
       "  </tbody>\n",
       "</table>\n",
       "</div>"
      ],
      "text/plain": [
       "     Default  Checking_amount  Term  Credit_score  Marital_status   Car_loan  \\\n",
       "799        0            393.0  18.0         846.0                1         0   \n",
       "800        0            462.0  21.0         810.0                1         1   \n",
       "801        0            717.0  17.0         739.0                0         1   \n",
       "802        0            822.0  17.0         783.0                0         0   \n",
       "803        1            512.0  18.0         601.0                0         1   \n",
       "\n",
       "     Personal_loan  Home_loan  Education_loan  Emp_status  Amount  \\\n",
       "799              1          0               0           1  1603.0   \n",
       "800              0          0               0           1  1435.0   \n",
       "801              0          0               0           1  1669.0   \n",
       "802              1          0               0           1  1041.0   \n",
       "803              0          0               0           1   997.0   \n",
       "\n",
       "     Saving_amount  Emp_duration    Age  No_of_credit_acc  \n",
       "799           3282           54.0  31.0               1.0  \n",
       "800           3873          110.0  32.0               1.0  \n",
       "801           3453           32.0  31.0               2.0  \n",
       "802           3312           43.0  34.0               2.0  \n",
       "803           3060          104.0  26.0               1.0  "
      ]
     },
     "execution_count": 26,
     "metadata": {},
     "output_type": "execute_result"
    }
   ],
   "source": [
    "trim_data = data.drop(['ID', 'Gender'], axis = 1)\n",
    "trim_data.tail()"
   ]
  },
  {
   "cell_type": "code",
   "execution_count": 27,
   "metadata": {},
   "outputs": [
    {
     "data": {
      "text/plain": [
       "array([38., 36., 34., 29., 30., 32., 25., 31., 24., 33., 35., 37., 28.,\n",
       "       27., 20., 26., 23., 22., 39., 40., 19., 42., 41., 21., 18.])"
      ]
     },
     "execution_count": 27,
     "metadata": {},
     "output_type": "execute_result"
    }
   ],
   "source": [
    "trim_data.Age.unique()"
   ]
  },
  {
   "cell_type": "markdown",
   "metadata": {},
   "source": [
    "`Since most of the values are between 20 & 40, let us introduce a new categorical feature that identifies if age > 30`"
   ]
  },
  {
   "cell_type": "code",
   "execution_count": 28,
   "metadata": {},
   "outputs": [],
   "source": [
    "def age_bin(age):\n",
    "    if age < 30:\n",
    "        return 1\n",
    "    else:\n",
    "        return 0"
   ]
  },
  {
   "cell_type": "code",
   "execution_count": 29,
   "metadata": {},
   "outputs": [
    {
     "data": {
      "text/plain": [
       "0    544\n",
       "1    256\n",
       "Name: ageBin, dtype: int64"
      ]
     },
     "execution_count": 29,
     "metadata": {},
     "output_type": "execute_result"
    }
   ],
   "source": [
    "trim_data['ageBin'] = trim_data['Age'].map(age_bin)\n",
    "trim_data['ageBin'].value_counts()"
   ]
  },
  {
   "cell_type": "markdown",
   "metadata": {},
   "source": [
    "#### Apply the decision tree algorithm on this engineered dataset"
   ]
  },
  {
   "cell_type": "code",
   "execution_count": 30,
   "metadata": {},
   "outputs": [],
   "source": [
    "X = trim_data.drop('Default', axis = 1)\n",
    "y = trim_data.Default"
   ]
  },
  {
   "cell_type": "code",
   "execution_count": 31,
   "metadata": {},
   "outputs": [
    {
     "name": "stdout",
     "output_type": "stream",
     "text": [
      "0.7472527472527473\n",
      "Feature: Checking_amount, Score: 0.16192165550164722\n",
      "Feature: Term, Score: 0.006549707602339181\n",
      "Feature: Credit_score, Score: 0.12020008526560803\n",
      "Feature: Marital_status , Score: 0.005703146755778335\n",
      "Feature: Car_loan, Score: 0.008930418738468272\n",
      "Feature: Personal_loan, Score: 0.0\n",
      "Feature: Home_loan, Score: 0.0\n",
      "Feature: Education_loan, Score: 0.012411420708634333\n",
      "Feature: Emp_status, Score: 0.0\n",
      "Feature: Amount, Score: 0.03608395701898418\n",
      "Feature: Saving_amount, Score: 0.10609109043454108\n",
      "Feature: Emp_duration , Score: 0.040689758584495424\n",
      "Feature: Age, Score: 0.026934248312367483\n",
      "Feature: No_of_credit_acc, Score: 0.028238116659169293\n",
      "Feature: ageBin, Score: 0.4462463944179672\n"
     ]
    },
    {
     "data": {
      "image/png": "[encoded data removed]",
      "text/plain": [
       "<Figure size 432x288 with 1 Axes>"
      ]
     },
     "metadata": {
      "needs_background": "light"
     },
     "output_type": "display_data"
    }
   ],
   "source": [
    "X_train, X_test, y_train, y_test = train_test_split(X, y, test_size = 0.2, random_state = 42)\n",
    "model2 = DecisionTreeClassifier(random_state = 42)\n",
    "model2.fit(X_train, y_train)\n",
    "y_pred = model2.predict(X_test)\n",
    "print(f1_score(y_test, y_pred))\n",
    "feature_importance(model2, X_train)"
   ]
  },
  {
   "cell_type": "markdown",
   "metadata": {},
   "source": [
    "`Notice that ageBin now has the highest importance & since it was derived from the Age feature, the importance of Age feature reduced`"
   ]
  },
  {
   "cell_type": "code",
   "execution_count": 32,
   "metadata": {},
   "outputs": [
    {
     "data": {
      "text/plain": [
       "'decision_tree2.png'"
      ]
     },
     "execution_count": 32,
     "metadata": {},
     "output_type": "execute_result"
    }
   ],
   "source": [
    "dot_data = tree.export_graphviz(model2, out_file = None)\n",
    "graph = graphviz.Source(dot_data, format = 'png')\n",
    "graph.render('decision_tree2')"
   ]
  },
  {
   "cell_type": "markdown",
   "metadata": {},
   "source": [
    "#### Look at the impact that a few hyperparameters have on the model, starting with max_depth"
   ]
  },
  {
   "cell_type": "code",
   "execution_count": 33,
   "metadata": {},
   "outputs": [
    {
     "data": {
      "image/png": "[encoded data removed]",
      "text/plain": [
       "<Figure size 432x288 with 1 Axes>"
      ]
     },
     "metadata": {
      "needs_background": "light"
     },
     "output_type": "display_data"
    }
   ],
   "source": [
    "max_depths = np.linspace(1, 12, 12, endpoint=True)\n",
    "train_results = []\n",
    "test_results = []\n",
    "for max_depth in max_depths:\n",
    "   dt = DecisionTreeClassifier(max_depth = max_depth, random_state = 42)\n",
    "   dt.fit(X_train, y_train)\n",
    "   train_pred = dt.predict(X_train)\n",
    "   fpr, tpr, thresh = roc_curve(y_train, train_pred)\n",
    "   roc_auc = auc(fpr, tpr)\n",
    "   # Add auc score to previous train results\n",
    "   train_results.append(roc_auc)\n",
    "   y_pred = dt.predict(X_test)\n",
    "   fpr, tpr, thresh = roc_curve(y_test, y_pred)\n",
    "   roc_auc = auc(fpr, tpr)\n",
    "   # Add auc score to previous test results\n",
    "   test_results.append(roc_auc)\n",
    "from matplotlib.legend_handler import HandlerLine2D\n",
    "line1, = plt.plot(max_depths, train_results, 'b', label='Train AUC')\n",
    "line2, = plt.plot(max_depths, test_results, 'r', label='Test AUC')\n",
    "plt.legend(handler_map={line1: HandlerLine2D(numpoints=2)})\n",
    "plt.ylabel('AUC score')\n",
    "plt.xlabel('Tree depth')\n",
    "plt.show()"
   ]
  },
  {
   "cell_type": "markdown",
   "metadata": {},
   "source": [
    "`Notice that as the max_depth is increased, the training score is getting better to a point where it totally overfits the training data at max_depth = 12. But the test score is not improving & max score is obtained at max_depths of 1 & 8.`"
   ]
  },
  {
   "cell_type": "markdown",
   "metadata": {},
   "source": [
    "#### Now, let us vary the min_samples_leaf parameter & observe its impact on the model"
   ]
  },
  {
   "cell_type": "code",
   "execution_count": 34,
   "metadata": {},
   "outputs": [
    {
     "data": {
      "image/png": "[encoded data removed]",
      "text/plain": [
       "<Figure size 432x288 with 1 Axes>"
      ]
     },
     "metadata": {
      "needs_background": "light"
     },
     "output_type": "display_data"
    }
   ],
   "source": [
    "min_samples_leafs = np.linspace(0.1, 0.5, 5, endpoint=True)\n",
    "train_results = []\n",
    "test_results = []\n",
    "for min_samples_leaf in min_samples_leafs:\n",
    "   dt = DecisionTreeClassifier(min_samples_leaf=min_samples_leaf, random_state = 42)\n",
    "   dt.fit(X_train, y_train)\n",
    "   train_pred = dt.predict(X_train)\n",
    "   fpr, tpr, thresh = roc_curve(y_train, train_pred)\n",
    "   roc_auc = auc(fpr, tpr)\n",
    "   train_results.append(roc_auc)\n",
    "   y_pred = dt.predict(X_test)\n",
    "   fpr, tpr, thresh = roc_curve(y_test, y_pred)\n",
    "   roc_auc = auc(fpr, tpr)\n",
    "   test_results.append(roc_auc)\n",
    "\n",
    "line1, = plt.plot(min_samples_leafs, train_results, 'b', label='Train AUC')\n",
    "line2, = plt.plot(min_samples_leafs, test_results, 'r', label='Test AUC')\n",
    "plt.legend(handler_map={line1: HandlerLine2D(numpoints=2)})\n",
    "plt.ylabel('AUC score')\n",
    "plt.xlabel('min samples leaf')\n",
    "plt.show()"
   ]
  },
  {
   "cell_type": "markdown",
   "metadata": {},
   "source": [
    "`We observe that when min_samples_leaf is between 0.2 to 0.3, the scores obtained are relatively stable'"
   ]
  },
  {
   "cell_type": "markdown",
   "metadata": {},
   "source": [
    "#### Now, observe the same for min_impurity_decrease hyperparameter"
   ]
  },
  {
   "cell_type": "code",
   "execution_count": 35,
   "metadata": {},
   "outputs": [
    {
     "data": {
      "image/png": "[encoded data removed]",
      "text/plain": [
       "<Figure size 432x288 with 1 Axes>"
      ]
     },
     "metadata": {
      "needs_background": "light"
     },
     "output_type": "display_data"
    }
   ],
   "source": [
    "min_imp_dec = np.linspace(0.05, 0.30, 6, endpoint=True)\n",
    "train_results = []\n",
    "test_results = []\n",
    "for val in min_imp_dec:\n",
    "   dt = DecisionTreeClassifier(min_impurity_decrease = val, random_state = 42)\n",
    "   dt.fit(X_train, y_train)\n",
    "   train_pred = dt.predict(X_train)\n",
    "   fpr, tpr, thresh = roc_curve(y_train, train_pred)\n",
    "   roc_auc = auc(fpr, tpr)\n",
    "   train_results.append(roc_auc)\n",
    "   y_pred = dt.predict(X_test)\n",
    "   fpr, tpr, thresh = roc_curve(y_test, y_pred)\n",
    "   roc_auc = auc(fpr, tpr)\n",
    "   test_results.append(roc_auc)\n",
    "\n",
    "line1, = plt.plot(min_imp_dec, train_results, 'b', label='Train AUC')\n",
    "line2, = plt.plot(min_imp_dec, test_results, 'r', label='Test AUC')\n",
    "plt.legend(handler_map={line1: HandlerLine2D(numpoints=2)})\n",
    "plt.ylabel('AUC score')\n",
    "plt.xlabel('min impurity decrease')\n",
    "plt.show()"
   ]
  },
  {
   "cell_type": "markdown",
   "metadata": {},
   "source": [
    "`Observe that when min_impurity_decrease is between 0.1 & 0.15, the scores obtained are better`"
   ]
  },
  {
   "cell_type": "markdown",
   "metadata": {},
   "source": [
    "#### Retain the values for min_samples_leaf & min_impurity_decrease & perform hyperparameter tuning on max_depth & criterioin parameters"
   ]
  },
  {
   "cell_type": "code",
   "execution_count": 36,
   "metadata": {},
   "outputs": [],
   "source": [
    "from sklearn.model_selection import GridSearchCV, RandomizedSearchCV"
   ]
  },
  {
   "cell_type": "code",
   "execution_count": 37,
   "metadata": {},
   "outputs": [
    {
     "data": {
      "text/plain": [
       "DecisionTreeClassifier(max_depth=1, min_impurity_decrease=0.1,\n",
       "                       min_samples_leaf=0.2, random_state=42)"
      ]
     },
     "execution_count": 37,
     "metadata": {},
     "output_type": "execute_result"
    }
   ],
   "source": [
    "param_grid = {'max_depth': range(1,12),\n",
    "             'criterion': ['gini', 'entropy']}\n",
    "#              'min_samples_split': range(10, 50, 10),\n",
    "#              'min_impurity_decrease': np.arange(0.05, 0.21, 0.05)}\n",
    "grid_search_cv = GridSearchCV(DecisionTreeClassifier(random_state = 42, min_samples_leaf = 0.2, min_impurity_decrease = 0.1), \n",
    "                              param_grid, cv=5)\n",
    "grid_search_cv.fit(X_train, y_train)\n",
    "grid_search_cv.best_estimator_"
   ]
  },
  {
   "cell_type": "markdown",
   "metadata": {},
   "source": [
    "`Observe that the best model obtained is having max_depth = 1 which means that most of the defaults can be predicted with just one feature. To understand which feature is that, we will look at the feature importances`"
   ]
  },
  {
   "cell_type": "code",
   "execution_count": 38,
   "metadata": {},
   "outputs": [
    {
     "name": "stdout",
     "output_type": "stream",
     "text": [
      "0.7708333333333334\n",
      "0.8625\n"
     ]
    }
   ],
   "source": [
    "y_pred = grid_search_cv.best_estimator_.predict(X_test)\n",
    "print(f1_score(y_test, y_pred))\n",
    "print(accuracy_score(y_test, y_pred))"
   ]
  },
  {
   "cell_type": "code",
   "execution_count": 39,
   "metadata": {},
   "outputs": [
    {
     "name": "stdout",
     "output_type": "stream",
     "text": [
      "Feature: Checking_amount, Score: 0.0\n",
      "Feature: Term, Score: 0.0\n",
      "Feature: Credit_score, Score: 0.0\n",
      "Feature: Marital_status , Score: 0.0\n",
      "Feature: Car_loan, Score: 0.0\n",
      "Feature: Personal_loan, Score: 0.0\n",
      "Feature: Home_loan, Score: 0.0\n",
      "Feature: Education_loan, Score: 0.0\n",
      "Feature: Emp_status, Score: 0.0\n",
      "Feature: Amount, Score: 0.0\n",
      "Feature: Saving_amount, Score: 0.0\n",
      "Feature: Emp_duration , Score: 0.0\n",
      "Feature: Age, Score: 0.0\n",
      "Feature: No_of_credit_acc, Score: 0.0\n",
      "Feature: ageBin, Score: 1.0\n"
     ]
    },
    {
     "data": {
      "image/png": "[encoded data removed]",
      "text/plain": [
       "<Figure size 432x288 with 1 Axes>"
      ]
     },
     "metadata": {
      "needs_background": "light"
     },
     "output_type": "display_data"
    }
   ],
   "source": [
    "feature_importance(grid_search_cv.best_estimator_, X_train)"
   ]
  },
  {
   "cell_type": "markdown",
   "metadata": {},
   "source": [
    "`The single most important featue is ageBin`"
   ]
  },
  {
   "cell_type": "code",
   "execution_count": 40,
   "metadata": {},
   "outputs": [
    {
     "data": {
      "text/plain": [
       "'grid_search.png'"
      ]
     },
     "execution_count": 40,
     "metadata": {},
     "output_type": "execute_result"
    }
   ],
   "source": [
    "dot_data = tree.export_graphviz(grid_search_cv.best_estimator_, out_file = None)\n",
    "graph = graphviz.Source(dot_data, format = 'png')\n",
    "graph.render('grid_search')"
   ]
  },
  {
   "cell_type": "markdown",
   "metadata": {},
   "source": [
    "#### Having done pre-pruning, we now look at scikit-learn's attempt at post-pruning with ccp_alpha parameter"
   ]
  },
  {
   "cell_type": "code",
   "execution_count": 41,
   "metadata": {},
   "outputs": [],
   "source": [
    "pp_model = DecisionTreeClassifier(random_state = 42)\n",
    "path = pp_model.cost_complexity_pruning_path(X_train, y_train)\n",
    "ccp_alphas, impurities = path.ccp_alphas, path.impurities"
   ]
  },
  {
   "cell_type": "code",
   "execution_count": 42,
   "metadata": {},
   "outputs": [
    {
     "data": {
      "text/plain": [
       "Text(0.5, 1.0, 'Total Impurity vs effective alpha for training set')"
      ]
     },
     "execution_count": 42,
     "metadata": {},
     "output_type": "execute_result"
    },
    {
     "data": {
      "image/png": "[encoded data removed]",
      "text/plain": [
       "<Figure size 432x288 with 1 Axes>"
      ]
     },
     "metadata": {
      "needs_background": "light"
     },
     "output_type": "display_data"
    }
   ],
   "source": [
    "fig, ax = plt.subplots()\n",
    "ax.plot(ccp_alphas[:-1], impurities[:-1], marker='o', drawstyle=\"steps-post\")\n",
    "ax.set_xlabel(\"effective alpha\")\n",
    "ax.set_ylabel(\"total impurity of leaves\")\n",
    "ax.set_title(\"Total Impurity vs effective alpha for training set\")"
   ]
  },
  {
   "cell_type": "markdown",
   "metadata": {},
   "source": [
    "`From the above plot, we notice that when alpha = 0, the value to be minimized is just the RMSE which is nothing but the vanilla decision tree model that we obtained. Since this model constructs a tree that goes all the way down to having impurity = 0 in the leaf nodes, we see from the graph the total impurity of all the leaf nodes = 0. However, as alpha increases, some of the subtrees are being pruned & hence there is some amount of impurity in the leaf nodes. Hence, we notice the total impurity to increase with alpha`"
   ]
  },
  {
   "cell_type": "code",
   "execution_count": 43,
   "metadata": {},
   "outputs": [
    {
     "name": "stdout",
     "output_type": "stream",
     "text": [
      "Number of nodes in the last tree is: 1 with ccp_alpha: 0.18629915391961033\n"
     ]
    }
   ],
   "source": [
    "clfs = []\n",
    "for ccp_alpha in ccp_alphas:\n",
    "    clf = DecisionTreeClassifier(random_state=42, ccp_alpha=ccp_alpha)\n",
    "    clf.fit(X_train, y_train)\n",
    "    clfs.append(clf)\n",
    "print(\"Number of nodes in the last tree is: {} with ccp_alpha: {}\".format(\n",
    "      clfs[-1].tree_.node_count, ccp_alphas[-1]))"
   ]
  },
  {
   "cell_type": "code",
   "execution_count": 44,
   "metadata": {},
   "outputs": [
    {
     "data": {
      "image/png": "[encoded data removed]",
      "text/plain": [
       "<Figure size 432x288 with 2 Axes>"
      ]
     },
     "metadata": {
      "needs_background": "light"
     },
     "output_type": "display_data"
    }
   ],
   "source": [
    "clfs = clfs[:-1]\n",
    "ccp_alphas = ccp_alphas[:-1]\n",
    "\n",
    "node_counts = [clf.tree_.node_count for clf in clfs]\n",
    "depth = [clf.tree_.max_depth for clf in clfs]\n",
    "fig, ax = plt.subplots(2, 1)\n",
    "ax[0].plot(ccp_alphas, node_counts, marker='o', drawstyle=\"steps-post\")\n",
    "ax[0].set_xlabel(\"alpha\")\n",
    "ax[0].set_ylabel(\"number of nodes\")\n",
    "ax[0].set_title(\"Number of nodes vs alpha\")\n",
    "ax[1].plot(ccp_alphas, depth, marker='o', drawstyle=\"steps-post\")\n",
    "ax[1].set_xlabel(\"alpha\")\n",
    "ax[1].set_ylabel(\"depth of tree\")\n",
    "ax[1].set_title(\"Depth vs alpha\")\n",
    "fig.tight_layout()"
   ]
  },
  {
   "cell_type": "markdown",
   "metadata": {},
   "source": [
    "`Again from the above plots, we can observe that as alpha increase, due to more amount of pruning, both the number of nodes & the depth of the tree decreases`"
   ]
  },
  {
   "cell_type": "code",
   "execution_count": 45,
   "metadata": {},
   "outputs": [
    {
     "data": {
      "image/png": "[encoded data removed]",
      "text/plain": [
       "<Figure size 432x288 with 1 Axes>"
      ]
     },
     "metadata": {
      "needs_background": "light"
     },
     "output_type": "display_data"
    }
   ],
   "source": [
    "train_scores = [f1_score(y_train, clf.predict(X_train)) for clf in clfs]\n",
    "test_scores = [f1_score(y_test, clf.predict(X_test)) for clf in clfs]\n",
    "\n",
    "fig, ax = plt.subplots()\n",
    "ax.set_xlabel(\"alpha\")\n",
    "ax.set_ylabel(\"f1 score\")\n",
    "ax.set_title(\"F1 score vs alpha for training and testing sets\")\n",
    "ax.plot(ccp_alphas, train_scores, marker='o', label=\"train\",\n",
    "        drawstyle=\"steps-post\")\n",
    "ax.plot(ccp_alphas, test_scores, marker='o', label=\"test\",\n",
    "        drawstyle=\"steps-post\")\n",
    "ax.legend()\n",
    "plt.show()"
   ]
  },
  {
   "cell_type": "markdown",
   "metadata": {},
   "source": [
    "`Here, we observe the test score being being slightly better at high alpha values compared to when alpha = 0`"
   ]
  },
  {
   "cell_type": "code",
   "execution_count": 47,
   "metadata": {},
   "outputs": [
    {
     "data": {
      "text/plain": [
       "array([0.        , 0.00136719, 0.00136719, 0.00145833, 0.00152616,\n",
       "       0.0015625 , 0.00208333, 0.00211979, 0.00238095, 0.0028125 ,\n",
       "       0.00282738, 0.00291358, 0.00292969, 0.00299479, 0.00405134,\n",
       "       0.00494812, 0.005625  , 0.00616316, 0.00638021, 0.00851433,\n",
       "       0.01251302, 0.01719586, 0.01771938, 0.01810349, 0.0501746 ])"
      ]
     },
     "execution_count": 47,
     "metadata": {},
     "output_type": "execute_result"
    }
   ],
   "source": [
    "ccp_alphas"
   ]
  },
  {
   "cell_type": "code",
   "execution_count": 49,
   "metadata": {},
   "outputs": [
    {
     "data": {
      "text/plain": [
       "0.7708333333333334"
      ]
     },
     "execution_count": 49,
     "metadata": {},
     "output_type": "execute_result"
    }
   ],
   "source": [
    "model = DecisionTreeClassifier(random_state = 42, ccp_alpha = ccp_alphas[-1])\n",
    "model.fit(X_train, y_train)\n",
    "y_pred = model.predict(X_test)\n",
    "f1_score(y_test, y_pred)"
   ]
  },
  {
   "cell_type": "code",
   "execution_count": 51,
   "metadata": {},
   "outputs": [
    {
     "name": "stdout",
     "output_type": "stream",
     "text": [
      "Feature: Checking_amount, Score: 0.0\n",
      "Feature: Term, Score: 0.0\n",
      "Feature: Credit_score, Score: 0.0\n",
      "Feature: Marital_status , Score: 0.0\n",
      "Feature: Car_loan, Score: 0.0\n",
      "Feature: Personal_loan, Score: 0.0\n",
      "Feature: Home_loan, Score: 0.0\n",
      "Feature: Education_loan, Score: 0.0\n",
      "Feature: Emp_status, Score: 0.0\n",
      "Feature: Amount, Score: 0.0\n",
      "Feature: Saving_amount, Score: 0.0\n",
      "Feature: Emp_duration , Score: 0.0\n",
      "Feature: Age, Score: 0.0\n",
      "Feature: No_of_credit_acc, Score: 0.0\n",
      "Feature: ageBin, Score: 1.0\n"
     ]
    },
    {
     "data": {
      "image/png": "[encoded data removed]",
      "text/plain": [
       "<Figure size 432x288 with 1 Axes>"
      ]
     },
     "metadata": {
      "needs_background": "light"
     },
     "output_type": "display_data"
    }
   ],
   "source": [
    "feature_importance(model, X_train)"
   ]
  },
  {
   "cell_type": "code",
   "execution_count": 52,
   "metadata": {},
   "outputs": [
    {
     "data": {
      "text/plain": [
       "'post-pruned-tree.png'"
      ]
     },
     "execution_count": 52,
     "metadata": {},
     "output_type": "execute_result"
    }
   ],
   "source": [
    "dot_data = tree.export_graphviz(model, out_file = None)\n",
    "graph = graphviz.Source(dot_data, format = 'png')\n",
    "graph.render('post-pruned-tree')"
   ]
  },
  {
   "cell_type": "markdown",
   "metadata": {},
   "source": [
    "`So for this dataset, we notice that pre-pruning & post-pruning with ccp alpha turned out to give similar models`"
   ]
  }
 ],
 "metadata": {
  "kernelspec": {
   "display_name": "Python 3",
   "language": "python",
   "name": "python3"
  },
  "language_info": {
   "codemirror_mode": {
    "name": "ipython",
    "version": 3
   },
   "file_extension": ".py",
   "mimetype": "text/x-python",
   "name": "python",
   "nbconvert_exporter": "python",
   "pygments_lexer": "ipython3",
   "version": "3.6.10"
  }
 },
 "nbformat": 4,
 "nbformat_minor": 2
}
